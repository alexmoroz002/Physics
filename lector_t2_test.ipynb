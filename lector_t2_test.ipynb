{
 "cells": [
  {
   "cell_type": "code",
   "execution_count": 22,
   "metadata": {},
   "outputs": [],
   "source": [
    "from qiskit import QuantumCircuit, QuantumRegister, BasicAer, transpile\n",
    "from qiskit.visualization import plot_bloch_multivector, visualize_transition\n",
    "from scipy.linalg import expm\n",
    "from math import pi\n",
    "from kaleidoscope import bloch_sphere\n",
    "import numpy as np\n",
    "import cmath"
   ]
  },
  {
   "cell_type": "code",
   "execution_count": 11,
   "metadata": {},
   "outputs": [
    {
     "data": {
      "text/plain": [
       "0.36787944117144233"
      ]
     },
     "execution_count": 11,
     "metadata": {},
     "output_type": "execute_result"
    }
   ],
   "source": [
    "np.e**(-1)"
   ]
  },
  {
   "cell_type": "code",
   "execution_count": 23,
   "metadata": {},
   "outputs": [
    {
     "data": {
      "text/plain": [
       "array([[6.123234e-17-1.j, 0.000000e+00+0.j],\n",
       "       [0.000000e+00+0.j, 6.123234e-17+1.j]])"
      ]
     },
     "execution_count": 23,
     "metadata": {},
     "output_type": "execute_result"
    }
   ],
   "source": [
    "expm(-complex(0, 1)*np.array([[1, 0], [0, -1]])*np.pi/2)"
   ]
  },
  {
   "cell_type": "code",
   "execution_count": 15,
   "metadata": {},
   "outputs": [
    {
     "data": {
      "text/plain": [
       "array([6.123234e-17-1.j, 0.000000e+00+0.j, 0.000000e+00+0.j,\n",
       "       6.123234e-17+1.j])"
      ]
     },
     "execution_count": 15,
     "metadata": {},
     "output_type": "execute_result"
    }
   ],
   "source": [
    "np.array([np.exp(-complex(0, 1)*np.pi/2), 0, 0, np.exp(complex(0, 1)*np.pi/2)])"
   ]
  },
  {
   "cell_type": "markdown",
   "metadata": {},
   "source": [
    "### Deprecated"
   ]
  },
  {
   "cell_type": "code",
   "execution_count": null,
   "metadata": {},
   "outputs": [],
   "source": [
    "q = QuantumRegister(1)\n",
    "qc = QuantumCircuit(q)\n",
    "##circuit.ry(pi/4,q) #theta\n",
    "##circuit.rz(pi/4,q) #phi\n",
    "\n",
    "#circuit.u(pi/5, pi/5, 0, q)\n",
    "qc.rz(-pi/2, q)\n",
    "qc.ry(-pi/4, q)\n",
    "qc.rz(pi/2, q)\n",
    "qc.ry(pi/4, q)\n",
    "qc.rz(pi/2, q)\n",
    "backend = BasicAer.get_backend('statevector_simulator')\n",
    "result = backend.run(transpile(qc, backend)).result()\n",
    "psi  = result.get_statevector(qc)\n",
    "plot_bloch_multivector(psi)\n",
    "visualize_transition(qc, trace=True, fpg=15, spg=2)"
   ]
  },
  {
   "cell_type": "code",
   "execution_count": null,
   "metadata": {},
   "outputs": [],
   "source": [
    "r1, phi1 = cmath.polar(psi[0])\n",
    "r2, phi2 = cmath.polar(psi[1])\n",
    "print(r1, r2)\n",
    "theta = 2 * np.arccos(r1)\n",
    "phi = phi2 - phi1\n",
    "\n",
    "print('state vector:', psi)\n",
    "print('θ =', theta)\n",
    "print('φ =', phi)\n",
    "coord = [np.cos(phi) * np.sin(theta), np.sin(phi) * np.sin(theta), np.cos(theta)]\n",
    "print('coords = ', coord)\n",
    "\n",
    "fig = bloch_sphere([coord], vectors_annotation=True)\n",
    "fig.show()"
   ]
  },
  {
   "cell_type": "code",
   "execution_count": null,
   "metadata": {},
   "outputs": [],
   "source": [
    "x, y, z = (1/np.sqrt(3), 1/np.sqrt(3), 1/np.sqrt(3))\n",
    "r_t = 1\n",
    "phi_t = np.arctan(y / x)\n",
    "theta_t = np.arccos(z / r_t)\n",
    "fig = bloch_sphere([x, y, z], vectors_annotation=True)\n",
    "fig.show()\n",
    "[r_t, phi_t, theta_t]"
   ]
  }
 ],
 "metadata": {
  "kernelspec": {
   "display_name": "qubits",
   "language": "python",
   "name": "python3"
  },
  "language_info": {
   "codemirror_mode": {
    "name": "ipython",
    "version": 3
   },
   "file_extension": ".py",
   "mimetype": "text/x-python",
   "name": "python",
   "nbconvert_exporter": "python",
   "pygments_lexer": "ipython3",
   "version": "3.10.11"
  },
  "orig_nbformat": 4
 },
 "nbformat": 4,
 "nbformat_minor": 2
}
